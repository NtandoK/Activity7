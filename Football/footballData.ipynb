{
 "cells": [
  {
   "cell_type": "markdown",
   "metadata": {},
   "source": [
    "import pandas as pd\n",
    "import numpy as np\n",
    "import matplotlib.pyplot as plt\n",
    "\n",
    "path=\"football.csv\"\n",
    "\n",
    "df=pd.read_csv(path)\n",
    "\n",
    "df.shape\n",
    "df.size\n",
    "df.dtype\n",
    "\n",
    "plt.figure(figsize=(10, 6))\n",
    "plt.bar(df.index, df['Goals'], color='skyblue')\n",
    "\n",
    "plt.title('Goals scored by players')\n",
    "plt.xlabel('Player Index')\n",
    "plt.ylabel('Goals')\n",
    "\n",
    "plt.show()\n"
   ]
  }
 ],
 "metadata": {
  "language_info": {
   "name": "python"
  }
 },
 "nbformat": 4,
 "nbformat_minor": 2
}
